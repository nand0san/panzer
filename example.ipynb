{
 "cells": [
  {
   "metadata": {},
   "cell_type": "markdown",
   "source": [
    "# Limits\n",
    "First, we establish a rate limiter for Binance. This will avoid overcharging the rate limiter and potentially hitting the rate limit that can ban your account."
   ],
   "id": "e6bc944ee0963ece"
  },
  {
   "metadata": {
    "collapsed": true,
    "ExecuteTime": {
     "end_time": "2024-09-18T18:27:38.146334Z",
     "start_time": "2024-09-18T18:27:38.079146Z"
    }
   },
   "cell_type": "code",
   "source": "from panzer.limits import BinanceRateLimiter",
   "id": "initial_id",
   "outputs": [],
   "execution_count": 1
  },
  {
   "metadata": {},
   "cell_type": "code",
   "source": "l = BinanceRateLimiter()",
   "id": "37915cbc1e1a0a0b",
   "outputs": [],
   "execution_count": null
  },
  {
   "metadata": {},
   "cell_type": "code",
   "source": "l.get()",
   "id": "bf591824abd32249",
   "outputs": [],
   "execution_count": null
  },
  {
   "metadata": {},
   "cell_type": "markdown",
   "source": "# Errors",
   "id": "6cb3599d8b7a71a7"
  },
  {
   "metadata": {},
   "cell_type": "code",
   "source": [
    "from panzer.errors import BinanceAPIException\n",
    "from panzer.request import get\n",
    "\n",
    "try:\n",
    "    # missing symbol example\n",
    "    response = get(url=\"https://api.binance.com/api/v3/klines\", params=[(\"interval\", \"1m\"),])\n",
    "\n",
    "except BinanceAPIException as e:\n",
    "    print(f\"Error: {e}\")"
   ],
   "id": "20d745cdcce425ca",
   "outputs": [],
   "execution_count": null
  },
  {
   "metadata": {},
   "cell_type": "markdown",
   "source": [
    "# Credentials\n",
    "First, we add api keys and secret to the credential manager. If not, they will be asked by prompt. Adding with is_sensitive parameter will save the credentials securely. If not \n",
    "provided then it will be automatically secured if name of the credential is \"api_key\" or \"api_secret\"."
   ],
   "id": "c5660c7d79839440"
  },
  {
   "metadata": {},
   "cell_type": "code",
   "source": "from panzer.keys import CredentialManager",
   "id": "f1d880bb2e8b8749",
   "outputs": [],
   "execution_count": null
  },
  {
   "metadata": {},
   "cell_type": "code",
   "source": "c = CredentialManager()",
   "id": "9f71fdf095edfc56",
   "outputs": [],
   "execution_count": null
  },
  {
   "metadata": {},
   "cell_type": "code",
   "source": "c.credentials",
   "id": "b50e2092112c8e70",
   "outputs": [],
   "execution_count": null
  },
  {
   "metadata": {},
   "cell_type": "markdown",
   "source": [
    "## Cached credentials\n",
    "If CredentialManager is asked for a credential that is already in the cache, it will return the cached value instead of asking for it again. Even it is not loaded in the object \n",
    "at first creation, it will add from disk cache automatically when needed, and it will prompt for it if it is not loaded. "
   ],
   "id": "2a1072e75fc18854"
  },
  {
   "metadata": {},
   "cell_type": "code",
   "source": [
    "c.add(\"api_key\", \"test\", is_sensitive=True, overwrite=False)\n",
    "c.add(\"api_secret\", \"test\", is_sensitive=True, overwrite=False)"
   ],
   "id": "7c0d2308390a79be",
   "outputs": [],
   "execution_count": null
  },
  {
   "metadata": {},
   "cell_type": "code",
   "source": "c.get(\"api_secret\", decrypt=True)",
   "id": "d39db819b86d92c7",
   "outputs": [],
   "execution_count": null
  },
  {
   "metadata": {},
   "cell_type": "code",
   "source": [
    "# renew to load real creds from file\n",
    "c = CredentialManager()"
   ],
   "id": "8cee0c0d1a3d4c80",
   "outputs": [],
   "execution_count": null
  },
  {
   "metadata": {},
   "cell_type": "code",
   "source": [
    "# cached in file can be retrieved with `file_manager` attribute.\n",
    "# c.file_manager"
   ],
   "id": "37cd3efbd967f3c4",
   "outputs": [],
   "execution_count": null
  },
  {
   "metadata": {},
   "cell_type": "code",
   "source": "c",
   "id": "9cca40e160dd5b94",
   "outputs": [],
   "execution_count": null
  },
  {
   "metadata": {},
   "cell_type": "markdown",
   "source": [
    "# Examples of API calls\n",
    "Credentials for API calls are going to be asked by prompt the first time if they are not in the creds cache.\n"
   ],
   "id": "e39b814f3d7b4dc8"
  },
  {
   "metadata": {},
   "cell_type": "code",
   "source": "from panzer.request import get, post",
   "id": "bc49f7397a0aac2b",
   "outputs": [],
   "execution_count": null
  },
  {
   "metadata": {},
   "cell_type": "markdown",
   "source": [
    "## Get klines example\n",
    "Assuming credentials are already in the cache, will check limits and then make the API call."
   ],
   "id": "4d1c1a7768370681"
  },
  {
   "metadata": {},
   "cell_type": "code",
   "source": [
    "url = 'https://api.binance.com/api/v3/klines'\n",
    "weight=2\n",
    "params = {\n",
    "    \"symbol\": \"BTCUSDT\",  # Par BTCUSDT\n",
    "    \"interval\": \"1m\",     # Intervalo de 1 minuto\n",
    "    \"limit\": 3            # Limitar a las últimas 5 velas\n",
    "}"
   ],
   "id": "a8aa1d253140d355",
   "outputs": [],
   "execution_count": null
  },
  {
   "metadata": {},
   "cell_type": "code",
   "source": "l.can_make_request(url=url, params_qty=len(params), weight=weight, is_order=False)",
   "id": "9fba0f0f4aa529bb",
   "outputs": [],
   "execution_count": null
  },
  {
   "metadata": {},
   "cell_type": "code",
   "source": [
    "response, headers = get(params=params, \n",
    "                        url=url,\n",
    "                        full_sign=False,\n",
    "                        server_time_offset=l.server_time_offset,)"
   ],
   "id": "efbebca390b8dde4",
   "outputs": [],
   "execution_count": null
  },
  {
   "metadata": {},
   "cell_type": "code",
   "source": [
    "# first limits update will notify sync of the object with api server if they differ\n",
    "l.update_from_headers(url=url, params_qty=len(params), headers=headers, expected_weight=weight)"
   ],
   "id": "1e9e95c3883ec9bb",
   "outputs": [],
   "execution_count": null
  },
  {
   "metadata": {},
   "cell_type": "code",
   "source": "response",
   "id": "6ce4911dfc56e95c",
   "outputs": [],
   "execution_count": null
  },
  {
   "metadata": {},
   "cell_type": "code",
   "source": "headers",
   "id": "4b03cfe853deed48",
   "outputs": [],
   "execution_count": null
  },
  {
   "metadata": {},
   "cell_type": "markdown",
   "source": [
    "### Without weight\n",
    "It can get weight for url from a local database created upon use of the module. Also is_order can be inferred from the url."
   ],
   "id": "15a7728070a9191b"
  },
  {
   "metadata": {},
   "cell_type": "code",
   "source": [
    "l.can_make_request(url=url, params_qty=len(params), weight=None, is_order=None)\n",
    "response, headers = get(params=params, \n",
    "                        url=url,\n",
    "                        full_sign=False,\n",
    "                        server_time_offset=l.server_time_offset,)\n",
    "l.update_from_headers(url=url, params_qty=len(params), headers=headers, expected_weight=weight)"
   ],
   "id": "cfa21c69f229e64e",
   "outputs": [],
   "execution_count": null
  },
  {
   "metadata": {},
   "cell_type": "code",
   "source": "",
   "id": "af57cc9d57976146",
   "outputs": [],
   "execution_count": null
  },
  {
   "metadata": {},
   "cell_type": "markdown",
   "source": "## Test order",
   "id": "e9945a785e650dc1"
  },
  {
   "metadata": {},
   "cell_type": "code",
   "source": [
    "url = 'https://api.binance.com/api/v3/order/test'\n",
    "weight = 1\n",
    "\n",
    "# timestamp is automatically added when signed call\n",
    "params = {'symbol': \"BTCUSDT\",\n",
    "          'side': \"SELL\",\n",
    "          'type': \"LIMIT\",\n",
    "          'timeInForce': 'GTC',\n",
    "          'quantity': 0.001,\n",
    "          'price': 80000,\n",
    "          'recvWindow': 10000}"
   ],
   "id": "ecacc2508e913325",
   "outputs": [],
   "execution_count": null
  },
  {
   "metadata": {},
   "cell_type": "code",
   "source": [
    "if l.can_make_request(url=url, params_qty=len(params), weight=weight, is_order=False):\n",
    "    response, headers = post(params=params, \n",
    "                            url=url,\n",
    "                            full_sign=True,\n",
    "                            server_time_offset=l.server_time_offset,)\n",
    "l.update_from_headers(url=url, params_qty=len(params), headers=headers, expected_weight=weight)"
   ],
   "id": "9990c42dfae9c39e",
   "outputs": [],
   "execution_count": null
  },
  {
   "metadata": {},
   "cell_type": "code",
   "source": "response",
   "id": "4b88130f6d8149e4",
   "outputs": [],
   "execution_count": null
  },
  {
   "metadata": {},
   "cell_type": "code",
   "source": "headers",
   "id": "fb9d3f7a822bac91",
   "outputs": [],
   "execution_count": null
  },
  {
   "metadata": {},
   "cell_type": "markdown",
   "source": "## Trades",
   "id": "63dc3222c9de4c7f"
  },
  {
   "metadata": {},
   "cell_type": "code",
   "source": [
    "url = 'https://api.binance.com/api/v3/myTrades'\n",
    "weight = 20\n",
    "params = {\n",
    "    'symbol': 'BTCUSDT',                   # The trading pair\n",
    "    'limit': 3,                            # Optional: Limit the number of trades to retrieve (default 500)\n",
    "    'recvWindow': 5000                     # Optional: Time window for the request (default 5000 ms)\n",
    "}"
   ],
   "id": "59dd234bcbefcd80",
   "outputs": [],
   "execution_count": null
  },
  {
   "metadata": {},
   "cell_type": "code",
   "source": [
    "if l.can_make_request(url=url, params_qty=len(params), weight=weight, is_order=False):\n",
    "    response, headers = get(params=params, \n",
    "                            url=url,\n",
    "                            full_sign=True,\n",
    "                            server_time_offset=l.server_time_offset,)\n",
    "l.update_from_headers(url=url, params_qty=len(params), headers=headers, expected_weight=weight)"
   ],
   "id": "e33bce2f0895e317",
   "outputs": [],
   "execution_count": null
  },
  {
   "metadata": {},
   "cell_type": "code",
   "source": "response",
   "id": "f1a10678690417b9",
   "outputs": [],
   "execution_count": null
  },
  {
   "metadata": {},
   "cell_type": "code",
   "source": "headers",
   "id": "7bed1a70bdebdbbe",
   "outputs": [],
   "execution_count": null
  },
  {
   "metadata": {},
   "cell_type": "code",
   "source": "l.get()",
   "id": "500823856b9a39b2",
   "outputs": [],
   "execution_count": null
  },
  {
   "metadata": {},
   "cell_type": "code",
   "source": "",
   "id": "f39aa9a29b06b679",
   "outputs": [],
   "execution_count": null
  }
 ],
 "metadata": {
  "kernelspec": {
   "display_name": "Python 3",
   "language": "python",
   "name": "python3"
  },
  "language_info": {
   "codemirror_mode": {
    "name": "ipython",
    "version": 2
   },
   "file_extension": ".py",
   "mimetype": "text/x-python",
   "name": "python",
   "nbconvert_exporter": "python",
   "pygments_lexer": "ipython2",
   "version": "2.7.6"
  }
 },
 "nbformat": 4,
 "nbformat_minor": 5
}
