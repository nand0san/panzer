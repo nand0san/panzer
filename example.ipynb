{
 "cells": [
  {
   "metadata": {},
   "cell_type": "markdown",
   "source": [
    "# Limits\n",
    "First, we establish a rate limiter for Binance. This will avoid overcharging the rate limiter and potentially hitting the rate limit that can ban your account."
   ],
   "id": "e6bc944ee0963ece"
  },
  {
   "metadata": {
    "collapsed": true,
    "ExecuteTime": {
     "end_time": "2024-09-18T18:00:08.985780Z",
     "start_time": "2024-09-18T18:00:08.919769Z"
    }
   },
   "cell_type": "code",
   "source": "from panzer.limits import BinanceRateLimiter",
   "id": "initial_id",
   "outputs": [],
   "execution_count": 1
  },
  {
   "metadata": {
    "ExecuteTime": {
     "end_time": "2024-09-18T18:00:11.998915Z",
     "start_time": "2024-09-18T18:00:08.988788Z"
    }
   },
   "cell_type": "code",
   "source": "l = BinanceRateLimiter()",
   "id": "37915cbc1e1a0a0b",
   "outputs": [
    {
     "name": "stdout",
     "output_type": "stream",
     "text": [
      "Rate limits: [{'rateLimitType': 'REQUEST_WEIGHT', 'interval': 'MINUTE', 'intervalNum': 1, 'limit': 6000}, {'rateLimitType': 'ORDERS', 'interval': 'SECOND', 'intervalNum': 10, 'limit': 100}, {'rateLimitType': 'ORDERS', 'interval': 'DAY', 'intervalNum': 1, 'limit': 200000}, {'rateLimitType': 'RAW_REQUESTS', 'interval': 'MINUTE', 'intervalNum': 5, 'limit': 61000}]\n"
     ]
    },
    {
     "name": "stderr",
     "output_type": "stream",
     "text": [
      "2024-09-18\t 20:00:11     INFO Updated server-local time offset: 113 ms\n"
     ]
    }
   ],
   "execution_count": 2
  },
  {
   "metadata": {
    "ExecuteTime": {
     "end_time": "2024-09-18T18:00:12.134615Z",
     "start_time": "2024-09-18T18:00:12.129566Z"
    }
   },
   "cell_type": "code",
   "source": "l.get()",
   "id": "bf591824abd32249",
   "outputs": [
    {
     "data": {
      "text/plain": [
       "{'orders_limit_per_ten_seconds': 100,\n",
       " 'orders_limit_per_day': 200000,\n",
       " 'weight_limit_per_minute': 6000,\n",
       " 'raw_limit_per_5_minutes': 61000,\n",
       " 'server_time_offset': 113,\n",
       " 'five_minutes_counts': {5755608: 2},\n",
       " 'minutes_weights': {28778040: 21},\n",
       " 'ten_seconds_orders_counts': {},\n",
       " 'daily_orders_count': {}}"
      ]
     },
     "execution_count": 3,
     "metadata": {},
     "output_type": "execute_result"
    }
   ],
   "execution_count": 3
  },
  {
   "metadata": {},
   "cell_type": "markdown",
   "source": [
    "# Credentials\n",
    "First, we add api keys and secret to the credential manager. If not, they will be asked by prompt. Adding with is_sensitive parameter will save the credentials securely. If not \n",
    "provided then it will be automatically secured if name of the credential is \"api_key\" or \"api_secret\"."
   ],
   "id": "c5660c7d79839440"
  },
  {
   "metadata": {
    "ExecuteTime": {
     "end_time": "2024-09-18T18:00:12.152538Z",
     "start_time": "2024-09-18T18:00:12.149624Z"
    }
   },
   "cell_type": "code",
   "source": "from panzer.keys import CredentialManager",
   "id": "f1d880bb2e8b8749",
   "outputs": [],
   "execution_count": 4
  },
  {
   "metadata": {
    "ExecuteTime": {
     "end_time": "2024-09-18T18:00:13.454511Z",
     "start_time": "2024-09-18T18:00:12.168705Z"
    }
   },
   "cell_type": "code",
   "source": "c = CredentialManager()",
   "id": "9f71fdf095edfc56",
   "outputs": [],
   "execution_count": 5
  },
  {
   "metadata": {
    "ExecuteTime": {
     "end_time": "2024-09-18T18:00:13.463996Z",
     "start_time": "2024-09-18T18:00:13.460606Z"
    }
   },
   "cell_type": "code",
   "source": "c.credentials",
   "id": "b50e2092112c8e70",
   "outputs": [
    {
     "data": {
      "text/plain": [
       "{}"
      ]
     },
     "execution_count": 6,
     "metadata": {},
     "output_type": "execute_result"
    }
   ],
   "execution_count": 6
  },
  {
   "metadata": {},
   "cell_type": "markdown",
   "source": [
    "## Cached credentials\n",
    "If CredentialManager is asked for a credential that is already in the cache, it will return the cached value instead of asking for it again. Even it is not loaded in the object \n",
    "at first creation, it will add from disk cache automatically when needed, and it will prompt for it if it is not loaded. "
   ],
   "id": "2a1072e75fc18854"
  },
  {
   "metadata": {
    "ExecuteTime": {
     "end_time": "2024-09-18T18:00:13.486547Z",
     "start_time": "2024-09-18T18:00:13.479133Z"
    }
   },
   "cell_type": "code",
   "source": [
    "c.add(\"api_key\", \"test\", is_sensitive=True, overwrite=False)\n",
    "c.add(\"api_secret\", \"test\", is_sensitive=True, overwrite=False)"
   ],
   "id": "7c0d2308390a79be",
   "outputs": [
    {
     "name": "stderr",
     "output_type": "stream",
     "text": [
      "2024-09-18\t 20:00:13     INFO Variable api_key exists in cache file. To renew it, pass overwrite parameter to True or delete line in cache file at: C:\\Users\\hanca\\.panzer_creds\n",
      "2024-09-18\t 20:00:13     INFO Variable api_secret exists in cache file. To renew it, pass overwrite parameter to True or delete line in cache file at: C:\\Users\\hanca\\.panzer_creds\n"
     ]
    },
    {
     "data": {
      "text/plain": [
       "'uU7DyqKUkvOX4OsMpeBetxy05s2ZGz6CY0DgkOHhlvrbakh/fLU7K4MXY3IHBJbqs+qlznAVCmGR1fWzprNR42A1YsUpRK8B3m3xBFPZ40g='"
      ]
     },
     "execution_count": 7,
     "metadata": {},
     "output_type": "execute_result"
    }
   ],
   "execution_count": 7
  },
  {
   "metadata": {
    "ExecuteTime": {
     "end_time": "2024-09-18T18:00:13.511310Z",
     "start_time": "2024-09-18T18:00:13.506649Z"
    }
   },
   "cell_type": "code",
   "source": "c.get(\"api_secret\", decrypt=True)",
   "id": "d39db819b86d92c7",
   "outputs": [
    {
     "data": {
      "text/plain": [
       "'test'"
      ]
     },
     "execution_count": 8,
     "metadata": {},
     "output_type": "execute_result"
    }
   ],
   "execution_count": 8
  },
  {
   "metadata": {
    "ExecuteTime": {
     "end_time": "2024-09-18T18:00:14.826550Z",
     "start_time": "2024-09-18T18:00:13.538417Z"
    }
   },
   "cell_type": "code",
   "source": [
    "# renew to load real creds from file\n",
    "c = CredentialManager()"
   ],
   "id": "8cee0c0d1a3d4c80",
   "outputs": [],
   "execution_count": 9
  },
  {
   "metadata": {
    "ExecuteTime": {
     "end_time": "2024-09-18T18:00:14.835174Z",
     "start_time": "2024-09-18T18:00:14.832613Z"
    }
   },
   "cell_type": "code",
   "source": [
    "# cached in file can be retrieved with `file_manager` attribute.\n",
    "# c.file_manager"
   ],
   "id": "37cd3efbd967f3c4",
   "outputs": [],
   "execution_count": 10
  },
  {
   "metadata": {
    "ExecuteTime": {
     "end_time": "2024-09-18T18:00:14.846885Z",
     "start_time": "2024-09-18T18:00:14.840993Z"
    }
   },
   "cell_type": "code",
   "source": "c",
   "id": "9cca40e160dd5b94",
   "outputs": [
    {
     "data": {
      "text/plain": [
       "{}"
      ]
     },
     "execution_count": 11,
     "metadata": {},
     "output_type": "execute_result"
    }
   ],
   "execution_count": 11
  },
  {
   "metadata": {},
   "cell_type": "markdown",
   "source": [
    "# Examples of API calls\n",
    "Credentials for API calls are going to be asked by prompt the first time if they are not in the creds cache.\n"
   ],
   "id": "e39b814f3d7b4dc8"
  },
  {
   "metadata": {
    "ExecuteTime": {
     "end_time": "2024-09-18T18:00:14.864046Z",
     "start_time": "2024-09-18T18:00:14.861151Z"
    }
   },
   "cell_type": "code",
   "source": "from panzer.request import get, post",
   "id": "bc49f7397a0aac2b",
   "outputs": [],
   "execution_count": 12
  },
  {
   "metadata": {},
   "cell_type": "markdown",
   "source": [
    "## Get klines example\n",
    "Assuming credentials are already in the cache, will check limits and then make the API call."
   ],
   "id": "4d1c1a7768370681"
  },
  {
   "metadata": {
    "ExecuteTime": {
     "end_time": "2024-09-18T18:00:14.880524Z",
     "start_time": "2024-09-18T18:00:14.877151Z"
    }
   },
   "cell_type": "code",
   "source": [
    "url = 'https://api.binance.com/api/v3/klines'\n",
    "weight=2\n",
    "params = {\n",
    "    \"symbol\": \"BTCUSDT\",  # Par BTCUSDT\n",
    "    \"interval\": \"1m\",     # Intervalo de 1 minuto\n",
    "    \"limit\": 3            # Limitar a las últimas 5 velas\n",
    "}"
   ],
   "id": "a8aa1d253140d355",
   "outputs": [],
   "execution_count": 13
  },
  {
   "metadata": {
    "ExecuteTime": {
     "end_time": "2024-09-18T18:00:14.892208Z",
     "start_time": "2024-09-18T18:00:14.886855Z"
    }
   },
   "cell_type": "code",
   "source": "l.can_make_request(url=url, params_qty=len(params), weight=weight, is_order=False)",
   "id": "9fba0f0f4aa529bb",
   "outputs": [
    {
     "data": {
      "text/plain": [
       "True"
      ]
     },
     "execution_count": 14,
     "metadata": {},
     "output_type": "execute_result"
    }
   ],
   "execution_count": 14
  },
  {
   "metadata": {
    "ExecuteTime": {
     "end_time": "2024-09-18T18:00:15.332517Z",
     "start_time": "2024-09-18T18:00:14.966146Z"
    }
   },
   "cell_type": "code",
   "source": [
    "response, headers = get(params=params, \n",
    "                        url=url,\n",
    "                        full_sign=False,\n",
    "                        server_time_offset=l.server_time_offset,)"
   ],
   "id": "efbebca390b8dde4",
   "outputs": [],
   "execution_count": 15
  },
  {
   "metadata": {
    "ExecuteTime": {
     "end_time": "2024-09-18T18:00:15.342804Z",
     "start_time": "2024-09-18T18:00:15.339576Z"
    }
   },
   "cell_type": "code",
   "source": [
    "# first limits update will notify sync of the object with api server if they differ\n",
    "l.update_from_headers(url=url, params_qty=len(params), headers=headers, expected_weight=weight)"
   ],
   "id": "1e9e95c3883ec9bb",
   "outputs": [],
   "execution_count": 16
  },
  {
   "metadata": {
    "ExecuteTime": {
     "end_time": "2024-09-18T18:00:15.355129Z",
     "start_time": "2024-09-18T18:00:15.349695Z"
    }
   },
   "cell_type": "code",
   "source": "response",
   "id": "6ce4911dfc56e95c",
   "outputs": [
    {
     "data": {
      "text/plain": [
       "[[1726682280000,\n",
       "  '60022.21000000',\n",
       "  '60048.00000000',\n",
       "  '59980.00000000',\n",
       "  '59980.00000000',\n",
       "  '34.39332000',\n",
       "  1726682339999,\n",
       "  '2064263.49788780',\n",
       "  3447,\n",
       "  '11.57473000',\n",
       "  '694749.56589450',\n",
       "  '0'],\n",
       " [1726682340000,\n",
       "  '59980.00000000',\n",
       "  '60025.43000000',\n",
       "  '59980.00000000',\n",
       "  '60013.01000000',\n",
       "  '54.24845000',\n",
       "  1726682399999,\n",
       "  '3254830.60990270',\n",
       "  4773,\n",
       "  '35.85856000',\n",
       "  '2151365.38717100',\n",
       "  '0'],\n",
       " [1726682400000,\n",
       "  '60013.02000000',\n",
       "  '60486.59000000',\n",
       "  '59759.84000000',\n",
       "  '60432.17000000',\n",
       "  '475.56764000',\n",
       "  1726682459999,\n",
       "  '28610493.33113570',\n",
       "  22127,\n",
       "  '249.78255000',\n",
       "  '15030836.30945870',\n",
       "  '0']]"
      ]
     },
     "execution_count": 17,
     "metadata": {},
     "output_type": "execute_result"
    }
   ],
   "execution_count": 17
  },
  {
   "metadata": {
    "ExecuteTime": {
     "end_time": "2024-09-18T18:00:15.425194Z",
     "start_time": "2024-09-18T18:00:15.420486Z"
    }
   },
   "cell_type": "code",
   "source": "headers",
   "id": "4b03cfe853deed48",
   "outputs": [
    {
     "data": {
      "text/plain": [
       "{'Content-Type': 'application/json;charset=UTF-8',\n",
       " 'Content-Length': '226',\n",
       " 'Connection': 'keep-alive',\n",
       " 'Date': 'Wed, 18 Sep 2024 18:00:15 GMT',\n",
       " 'Server': 'nginx',\n",
       " 'x-mbx-uuid': '8a8b3852-8280-48ef-88bb-d59cb1528557',\n",
       " 'x-mbx-used-weight': '23',\n",
       " 'x-mbx-used-weight-1m': '23',\n",
       " 'content-encoding': 'gzip',\n",
       " 'Strict-Transport-Security': 'max-age=31536000; includeSubdomains',\n",
       " 'X-Frame-Options': 'SAMEORIGIN',\n",
       " 'X-Xss-Protection': '1; mode=block',\n",
       " 'X-Content-Type-Options': 'nosniff',\n",
       " 'Content-Security-Policy': \"default-src 'self'\",\n",
       " 'X-Content-Security-Policy': \"default-src 'self'\",\n",
       " 'X-WebKit-CSP': \"default-src 'self'\",\n",
       " 'Cache-Control': 'no-cache, no-store, must-revalidate',\n",
       " 'Pragma': 'no-cache',\n",
       " 'Expires': '0',\n",
       " 'Access-Control-Allow-Origin': '*',\n",
       " 'Access-Control-Allow-Methods': 'GET, HEAD, OPTIONS',\n",
       " 'X-Cache': 'Miss from cloudfront',\n",
       " 'Via': '1.1 a2f1af60340347fb7ac41d41acebdd2c.cloudfront.net (CloudFront)',\n",
       " 'X-Amz-Cf-Pop': 'CDG55-P1',\n",
       " 'X-Amz-Cf-Id': 'WRKD6td9iuOy6TyvRlDjL0HME3dZym__fLX-vTPki0uRVStuXWGb8A=='}"
      ]
     },
     "execution_count": 18,
     "metadata": {},
     "output_type": "execute_result"
    }
   ],
   "execution_count": 18
  },
  {
   "metadata": {},
   "cell_type": "markdown",
   "source": [
    "### Without weight\n",
    "It can get weight for url from a local database created upon use of the module. Also is_order can be inferred from the url."
   ],
   "id": "15a7728070a9191b"
  },
  {
   "metadata": {
    "ExecuteTime": {
     "end_time": "2024-09-18T18:00:15.825609Z",
     "start_time": "2024-09-18T18:00:15.467982Z"
    }
   },
   "cell_type": "code",
   "source": [
    "l.can_make_request(url=url, params_qty=len(params), weight=None, is_order=None)\n",
    "response, headers = get(params=params, \n",
    "                        url=url,\n",
    "                        full_sign=False,\n",
    "                        server_time_offset=l.server_time_offset,)\n",
    "l.update_from_headers(url=url, params_qty=len(params), headers=headers, expected_weight=weight)"
   ],
   "id": "cfa21c69f229e64e",
   "outputs": [],
   "execution_count": 19
  },
  {
   "metadata": {
    "ExecuteTime": {
     "end_time": "2024-09-18T18:00:15.834591Z",
     "start_time": "2024-09-18T18:00:15.832463Z"
    }
   },
   "cell_type": "code",
   "source": "",
   "id": "af57cc9d57976146",
   "outputs": [],
   "execution_count": null
  },
  {
   "metadata": {},
   "cell_type": "markdown",
   "source": "## Test order",
   "id": "e9945a785e650dc1"
  },
  {
   "metadata": {
    "ExecuteTime": {
     "end_time": "2024-09-18T18:00:15.844810Z",
     "start_time": "2024-09-18T18:00:15.841687Z"
    }
   },
   "cell_type": "code",
   "source": [
    "url = 'https://api.binance.com/api/v3/order/test'\n",
    "weight = 1\n",
    "\n",
    "# timestamp is automatically added when signed call\n",
    "params = {'symbol': \"BTCUSDT\",\n",
    "          'side': \"SELL\",\n",
    "          'type': \"LIMIT\",\n",
    "          'timeInForce': 'GTC',\n",
    "          'quantity': 0.001,\n",
    "          'price': 80000,\n",
    "          'recvWindow': 10000}"
   ],
   "id": "ecacc2508e913325",
   "outputs": [],
   "execution_count": 20
  },
  {
   "metadata": {
    "ExecuteTime": {
     "end_time": "2024-09-18T18:00:16.210443Z",
     "start_time": "2024-09-18T18:00:15.851417Z"
    }
   },
   "cell_type": "code",
   "source": [
    "if l.can_make_request(url=url, params_qty=len(params), weight=weight, is_order=False):\n",
    "    response, headers = post(params=params, \n",
    "                            url=url,\n",
    "                            full_sign=True,\n",
    "                            server_time_offset=l.server_time_offset,)\n",
    "l.update_from_headers(url=url, params_qty=len(params), headers=headers, expected_weight=weight)"
   ],
   "id": "9990c42dfae9c39e",
   "outputs": [],
   "execution_count": 21
  },
  {
   "metadata": {
    "ExecuteTime": {
     "end_time": "2024-09-18T18:00:16.220327Z",
     "start_time": "2024-09-18T18:00:16.216625Z"
    }
   },
   "cell_type": "code",
   "source": "response",
   "id": "4b88130f6d8149e4",
   "outputs": [
    {
     "data": {
      "text/plain": [
       "{}"
      ]
     },
     "execution_count": 22,
     "metadata": {},
     "output_type": "execute_result"
    }
   ],
   "execution_count": 22
  },
  {
   "metadata": {
    "ExecuteTime": {
     "end_time": "2024-09-18T18:00:16.238353Z",
     "start_time": "2024-09-18T18:00:16.233686Z"
    }
   },
   "cell_type": "code",
   "source": "headers",
   "id": "fb9d3f7a822bac91",
   "outputs": [
    {
     "data": {
      "text/plain": [
       "{'Content-Type': 'application/json;charset=UTF-8',\n",
       " 'Content-Length': '2',\n",
       " 'Connection': 'keep-alive',\n",
       " 'Date': 'Wed, 18 Sep 2024 18:00:16 GMT',\n",
       " 'Server': 'nginx',\n",
       " 'x-mbx-uuid': '2da82bbd-7ee9-490e-9b5a-e0c19a259cfc',\n",
       " 'x-mbx-used-weight': '26',\n",
       " 'x-mbx-used-weight-1m': '26',\n",
       " 'Strict-Transport-Security': 'max-age=31536000; includeSubdomains',\n",
       " 'X-Frame-Options': 'SAMEORIGIN',\n",
       " 'X-Xss-Protection': '1; mode=block',\n",
       " 'X-Content-Type-Options': 'nosniff',\n",
       " 'Content-Security-Policy': \"default-src 'self'\",\n",
       " 'X-Content-Security-Policy': \"default-src 'self'\",\n",
       " 'X-WebKit-CSP': \"default-src 'self'\",\n",
       " 'Cache-Control': 'no-cache, no-store, must-revalidate',\n",
       " 'Pragma': 'no-cache',\n",
       " 'Expires': '0',\n",
       " 'Access-Control-Allow-Origin': '*',\n",
       " 'Access-Control-Allow-Methods': 'GET, HEAD, OPTIONS',\n",
       " 'X-Cache': 'Miss from cloudfront',\n",
       " 'Via': '1.1 614e1f0bd8649d5a99ab4e4cdbdaddb0.cloudfront.net (CloudFront)',\n",
       " 'X-Amz-Cf-Pop': 'CDG55-P1',\n",
       " 'X-Amz-Cf-Id': 'rawoc-00DLfZL21Z7zzE3oxt41D1sRzQIwaqFz8S5tpQ3fjQUcQFXw=='}"
      ]
     },
     "execution_count": 23,
     "metadata": {},
     "output_type": "execute_result"
    }
   ],
   "execution_count": 23
  },
  {
   "metadata": {},
   "cell_type": "markdown",
   "source": "## Trades",
   "id": "63dc3222c9de4c7f"
  },
  {
   "metadata": {
    "ExecuteTime": {
     "end_time": "2024-09-18T18:00:16.250846Z",
     "start_time": "2024-09-18T18:00:16.248135Z"
    }
   },
   "cell_type": "code",
   "source": [
    "url = 'https://api.binance.com/api/v3/myTrades'\n",
    "weight = 20\n",
    "params = {\n",
    "    'symbol': 'BTCUSDT',                   # The trading pair\n",
    "    'limit': 3,                            # Optional: Limit the number of trades to retrieve (default 500)\n",
    "    'recvWindow': 5000                     # Optional: Time window for the request (default 5000 ms)\n",
    "}"
   ],
   "id": "59dd234bcbefcd80",
   "outputs": [],
   "execution_count": 24
  },
  {
   "metadata": {
    "ExecuteTime": {
     "end_time": "2024-09-18T18:00:16.639145Z",
     "start_time": "2024-09-18T18:00:16.265503Z"
    }
   },
   "cell_type": "code",
   "source": [
    "if l.can_make_request(url=url, params_qty=len(params), weight=weight, is_order=False):\n",
    "    response, headers = get(params=params, \n",
    "                            url=url,\n",
    "                            full_sign=True,\n",
    "                            server_time_offset=l.server_time_offset,)\n",
    "l.update_from_headers(url=url, params_qty=len(params), headers=headers, expected_weight=weight)"
   ],
   "id": "e33bce2f0895e317",
   "outputs": [],
   "execution_count": 25
  },
  {
   "metadata": {
    "ExecuteTime": {
     "end_time": "2024-09-18T18:00:16.653382Z",
     "start_time": "2024-09-18T18:00:16.648904Z"
    }
   },
   "cell_type": "code",
   "source": "response",
   "id": "f1a10678690417b9",
   "outputs": [
    {
     "data": {
      "text/plain": [
       "[{'symbol': 'BTCUSDT',\n",
       "  'id': 3315169490,\n",
       "  'orderId': 23619145064,\n",
       "  'orderListId': -1,\n",
       "  'price': '41000.00000000',\n",
       "  'qty': '0.00175000',\n",
       "  'quoteQty': '71.75000000',\n",
       "  'commission': '0.00023627',\n",
       "  'commissionAsset': 'BNB',\n",
       "  'time': 1702260789687,\n",
       "  'isBuyer': True,\n",
       "  'isMaker': True,\n",
       "  'isBestMatch': True},\n",
       " {'symbol': 'BTCUSDT',\n",
       "  'id': 3316660873,\n",
       "  'orderId': 23687231478,\n",
       "  'orderListId': -1,\n",
       "  'price': '40986.19000000',\n",
       "  'qty': '0.00128000',\n",
       "  'quoteQty': '52.46232320',\n",
       "  'commission': '0.00016332',\n",
       "  'commissionAsset': 'BNB',\n",
       "  'time': 1702320683140,\n",
       "  'isBuyer': True,\n",
       "  'isMaker': True,\n",
       "  'isBestMatch': True},\n",
       " {'symbol': 'BTCUSDT',\n",
       "  'id': 3327971249,\n",
       "  'orderId': 23818929439,\n",
       "  'orderListId': -1,\n",
       "  'price': '43012.60000000',\n",
       "  'qty': '0.00303000',\n",
       "  'quoteQty': '130.32817800',\n",
       "  'commission': '0.00039912',\n",
       "  'commissionAsset': 'BNB',\n",
       "  'time': 1702981648395,\n",
       "  'isBuyer': False,\n",
       "  'isMaker': False,\n",
       "  'isBestMatch': True}]"
      ]
     },
     "execution_count": 26,
     "metadata": {},
     "output_type": "execute_result"
    }
   ],
   "execution_count": 26
  },
  {
   "metadata": {
    "ExecuteTime": {
     "end_time": "2024-09-18T18:00:16.679671Z",
     "start_time": "2024-09-18T18:00:16.675776Z"
    }
   },
   "cell_type": "code",
   "source": "headers",
   "id": "7bed1a70bdebdbbe",
   "outputs": [
    {
     "data": {
      "text/plain": [
       "{'Content-Type': 'application/json;charset=UTF-8',\n",
       " 'Content-Length': '311',\n",
       " 'Connection': 'keep-alive',\n",
       " 'Date': 'Wed, 18 Sep 2024 18:00:16 GMT',\n",
       " 'Server': 'nginx',\n",
       " 'x-mbx-uuid': 'ba0df13b-ff39-43bd-b7ed-c44b752373c7',\n",
       " 'x-mbx-used-weight': '46',\n",
       " 'x-mbx-used-weight-1m': '46',\n",
       " 'content-encoding': 'gzip',\n",
       " 'Strict-Transport-Security': 'max-age=31536000; includeSubdomains',\n",
       " 'X-Frame-Options': 'SAMEORIGIN',\n",
       " 'X-Xss-Protection': '1; mode=block',\n",
       " 'X-Content-Type-Options': 'nosniff',\n",
       " 'Content-Security-Policy': \"default-src 'self'\",\n",
       " 'X-Content-Security-Policy': \"default-src 'self'\",\n",
       " 'X-WebKit-CSP': \"default-src 'self'\",\n",
       " 'Cache-Control': 'no-cache, no-store, must-revalidate',\n",
       " 'Pragma': 'no-cache',\n",
       " 'Expires': '0',\n",
       " 'Access-Control-Allow-Origin': '*',\n",
       " 'Access-Control-Allow-Methods': 'GET, HEAD, OPTIONS',\n",
       " 'X-Cache': 'Miss from cloudfront',\n",
       " 'Via': '1.1 da8df4277339b60b1b379ebb4c80b78e.cloudfront.net (CloudFront)',\n",
       " 'X-Amz-Cf-Pop': 'CDG55-P1',\n",
       " 'X-Amz-Cf-Id': 'CE_PAK4CeMJKXbYPbgEVXospwm6vGD84PbSXd32XJkWkjKuZcW15TQ=='}"
      ]
     },
     "execution_count": 27,
     "metadata": {},
     "output_type": "execute_result"
    }
   ],
   "execution_count": 27
  },
  {
   "metadata": {
    "ExecuteTime": {
     "end_time": "2024-09-18T18:00:16.706447Z",
     "start_time": "2024-09-18T18:00:16.702682Z"
    }
   },
   "cell_type": "code",
   "source": "l.get()",
   "id": "500823856b9a39b2",
   "outputs": [
    {
     "data": {
      "text/plain": [
       "{'orders_limit_per_ten_seconds': 100,\n",
       " 'orders_limit_per_day': 200000,\n",
       " 'weight_limit_per_minute': 6000,\n",
       " 'raw_limit_per_5_minutes': 61000,\n",
       " 'server_time_offset': 113,\n",
       " 'five_minutes_counts': {5755608: 6},\n",
       " 'minutes_weights': {28778040: 46},\n",
       " 'ten_seconds_orders_counts': {},\n",
       " 'daily_orders_count': {}}"
      ]
     },
     "execution_count": 28,
     "metadata": {},
     "output_type": "execute_result"
    }
   ],
   "execution_count": 28
  },
  {
   "metadata": {
    "ExecuteTime": {
     "end_time": "2024-09-18T18:00:16.725625Z",
     "start_time": "2024-09-18T18:00:16.723277Z"
    }
   },
   "cell_type": "code",
   "source": "",
   "id": "bb8cea98cbb30823",
   "outputs": [],
   "execution_count": null
  }
 ],
 "metadata": {
  "kernelspec": {
   "display_name": "Python 3",
   "language": "python",
   "name": "python3"
  },
  "language_info": {
   "codemirror_mode": {
    "name": "ipython",
    "version": 2
   },
   "file_extension": ".py",
   "mimetype": "text/x-python",
   "name": "python",
   "nbconvert_exporter": "python",
   "pygments_lexer": "ipython2",
   "version": "2.7.6"
  }
 },
 "nbformat": 4,
 "nbformat_minor": 5
}
