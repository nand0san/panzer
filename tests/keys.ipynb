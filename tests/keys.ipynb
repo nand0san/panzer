{
 "cells": [
  {
   "cell_type": "code",
   "id": "initial_id",
   "metadata": {
    "collapsed": true,
    "ExecuteTime": {
     "end_time": "2024-09-09T14:20:17.487735Z",
     "start_time": "2024-09-09T14:20:16.555246Z"
    }
   },
   "source": "from panzer.keys import CredentialManager",
   "outputs": [],
   "execution_count": 2
  },
  {
   "metadata": {
    "ExecuteTime": {
     "end_time": "2024-09-09T14:20:19.477655Z",
     "start_time": "2024-09-09T14:20:18.149049Z"
    }
   },
   "cell_type": "code",
   "source": [
    "cm = CredentialManager()\n",
    "cm"
   ],
   "id": "7a4c89a0b35f47f",
   "outputs": [
    {
     "data": {
      "text/plain": [
       "{}"
      ]
     },
     "execution_count": 3,
     "metadata": {},
     "output_type": "execute_result"
    }
   ],
   "execution_count": 3
  },
  {
   "metadata": {
    "ExecuteTime": {
     "end_time": "2024-09-09T14:20:20.603408Z",
     "start_time": "2024-09-09T14:20:20.597174Z"
    }
   },
   "cell_type": "code",
   "source": "cm.get(\"api_secret\",decrypt=False)",
   "id": "12187060bc224bee",
   "outputs": [
    {
     "data": {
      "text/plain": [
       "'uU7DyqKUkvOX4OsMpeBetxy05s2ZGz6CY0DgkOHhlvrbakh/fLU7K4MXY3IHBJbqs+qlznAVCmGR1fWzprNR42A1YsUpRK8B3m3xBFPZ40g='"
      ]
     },
     "execution_count": 4,
     "metadata": {},
     "output_type": "execute_result"
    }
   ],
   "execution_count": 4
  },
  {
   "metadata": {
    "ExecuteTime": {
     "end_time": "2024-09-09T14:20:25.174492Z",
     "start_time": "2024-09-09T14:20:25.170448Z"
    }
   },
   "cell_type": "code",
   "source": "cm",
   "id": "5ccf68a3c8b628e0",
   "outputs": [
    {
     "data": {
      "text/plain": [
       "{'api_secret': 'uU7DyqKUkvOX4OsMpeBetxy05s2ZGz6CY0DgkOHhlvrbakh/fLU7K4MXY3IHBJbqs+qlznAVCmGR1fWzprNR42A1YsUpRK8B3m3xBFPZ40g='}"
      ]
     },
     "execution_count": 5,
     "metadata": {},
     "output_type": "execute_result"
    }
   ],
   "execution_count": 5
  },
  {
   "metadata": {
    "ExecuteTime": {
     "end_time": "2024-09-09T14:20:35.240410Z",
     "start_time": "2024-09-09T14:20:35.234266Z"
    }
   },
   "cell_type": "code",
   "source": "cm.get(\"api_secret\",decrypt=True)",
   "id": "ebc1677e52e9b404",
   "outputs": [
    {
     "data": {
      "text/plain": [
       "'wwR0RzZByl1Npxzwnjh0Pha528093KUXYvcv4TWGlyAFKx6gXyOAnd9M5XQyTF40'"
      ]
     },
     "execution_count": 6,
     "metadata": {},
     "output_type": "execute_result"
    }
   ],
   "execution_count": 6
  },
  {
   "metadata": {
    "ExecuteTime": {
     "end_time": "2024-09-09T14:20:37.073782Z",
     "start_time": "2024-09-09T14:20:37.069662Z"
    }
   },
   "cell_type": "code",
   "source": "cm",
   "id": "214f4b8837cde17d",
   "outputs": [
    {
     "data": {
      "text/plain": [
       "{'api_secret': 'uU7DyqKUkvOX4OsMpeBetxy05s2ZGz6CY0DgkOHhlvrbakh/fLU7K4MXY3IHBJbqs+qlznAVCmGR1fWzprNR42A1YsUpRK8B3m3xBFPZ40g='}"
      ]
     },
     "execution_count": 7,
     "metadata": {},
     "output_type": "execute_result"
    }
   ],
   "execution_count": 7
  },
  {
   "metadata": {},
   "cell_type": "code",
   "outputs": [],
   "execution_count": null,
   "source": "",
   "id": "72ead27ef289ccf"
  },
  {
   "metadata": {},
   "cell_type": "code",
   "source": "cm.get(\"api_key\", decrypt=True)",
   "id": "b24a8f64d0ed312e",
   "outputs": [],
   "execution_count": null
  },
  {
   "metadata": {},
   "cell_type": "code",
   "source": "cm.encrypt_value(\"c5O9rVC8ycggqSiHFo3fCG4s2lB2y6ChTsRd8GfTH3VqoC22iI0Ckniclns1A5yA\")",
   "id": "ed0f91b866e96d1a",
   "outputs": [],
   "execution_count": null
  },
  {
   "metadata": {},
   "cell_type": "code",
   "source": "cm.decrypt_value(cm.encrypt_value(\"c5O9rVC8ycggqSiHFo3fCG4s2lB2y6ChTsRd8GfTH3VqoC22iI0Ckniclns1A5yA\"))",
   "id": "c22aaa497aff825d",
   "outputs": [],
   "execution_count": null
  },
  {
   "metadata": {},
   "cell_type": "code",
   "source": "cm.get_",
   "id": "6a4f4757993b8ef7",
   "outputs": [],
   "execution_count": null
  }
 ],
 "metadata": {
  "kernelspec": {
   "display_name": "Python 3",
   "language": "python",
   "name": "python3"
  },
  "language_info": {
   "codemirror_mode": {
    "name": "ipython",
    "version": 2
   },
   "file_extension": ".py",
   "mimetype": "text/x-python",
   "name": "python",
   "nbconvert_exporter": "python",
   "pygments_lexer": "ipython2",
   "version": "2.7.6"
  }
 },
 "nbformat": 4,
 "nbformat_minor": 5
}
