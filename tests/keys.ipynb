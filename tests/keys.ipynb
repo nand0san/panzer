{
 "cells": [
  {
   "cell_type": "code",
   "id": "initial_id",
   "metadata": {
    "collapsed": true,
    "ExecuteTime": {
     "end_time": "2024-09-10T11:23:51.188532Z",
     "start_time": "2024-09-10T11:23:51.038830Z"
    }
   },
   "source": "from panzer.keys import CredentialManager, CredentialFileManager",
   "outputs": [],
   "execution_count": 1
  },
  {
   "metadata": {
    "ExecuteTime": {
     "end_time": "2024-09-10T11:23:53.169130Z",
     "start_time": "2024-09-10T11:23:51.880678Z"
    }
   },
   "cell_type": "code",
   "source": [
    "cf = CredentialFileManager()\n",
    "cf"
   ],
   "id": "531b89cb7c6b7f72",
   "outputs": [
    {
     "data": {
      "text/plain": [
       "File at C:\\Users\\hanca\\panzer.tmp:\n",
       "# Archivo de credenciales de Panzer\n",
       "api_secret = \"uU7DyqKUkvOX4OsMpeBetxy05s2ZGz6CY0DgkOHhlvrbakh/fLU7K4MXY3IHBJbqs+qlznAVCmGR1fWzprNR42A1YsUpRK8B3m3xBFPZ40g=\"\n",
       "api_key = \"O4wlK2DZxLZIPRw6H9YBWCHwX2VYJE5y/1UXRBjZ/+BnH8kqNxXa4ThePNW8ys2fODmx92GP7rG6Yy0iGVIIDV3aILjFMBLjGssm27hW2I9b0HREvrnBzpGTMo+pi0bz39J39vjKcXHL8adr/rT05g==\"\n",
       "postgresql_port = \"5432\"\n",
       "postgresql_user = \"nando\"\n",
       "postgresql_database = \"crypto\"\n",
       "private_chat_id = \"LrtmUpkUyr90wgFX2f6uQg==\"\n",
       "postgresql_password = \"XQ48RaWPccRth30uGzqa2A==\""
      ]
     },
     "execution_count": 2,
     "metadata": {},
     "output_type": "execute_result"
    }
   ],
   "execution_count": 2
  },
  {
   "metadata": {
    "ExecuteTime": {
     "end_time": "2024-09-10T11:26:33.039629Z",
     "start_time": "2024-09-10T11:26:33.036136Z"
    }
   },
   "cell_type": "code",
   "source": "cf.get_or_prompt_variable(\"api_key\", prompt=False)",
   "id": "ef97dfe4b8bc59b8",
   "outputs": [
    {
     "data": {
      "text/plain": [
       "'O4wlK2DZxLZIPRw6H9YBWCHwX2VYJE5y/1UXRBjZ/+BnH8kqNxXa4ThePNW8ys2fODmx92GP7rG6Yy0iGVIIDV3aILjFMBLjGssm27hW2I9b0HREvrnBzpGTMo+pi0bz39J39vjKcXHL8adr/rT05g=='"
      ]
     },
     "execution_count": 4,
     "metadata": {},
     "output_type": "execute_result"
    }
   ],
   "execution_count": 4
  },
  {
   "metadata": {
    "ExecuteTime": {
     "end_time": "2024-09-10T11:26:59.260284Z",
     "start_time": "2024-09-10T11:26:59.258235Z"
    }
   },
   "cell_type": "code",
   "source": "",
   "id": "3e6b5d12e767aef8",
   "outputs": [],
   "execution_count": null
  },
  {
   "metadata": {
    "ExecuteTime": {
     "end_time": "2024-09-10T11:26:59.457324Z",
     "start_time": "2024-09-10T11:26:59.455299Z"
    }
   },
   "cell_type": "code",
   "source": "",
   "id": "39e618f21e1b047",
   "outputs": [],
   "execution_count": null
  },
  {
   "metadata": {
    "ExecuteTime": {
     "end_time": "2024-09-10T11:27:00.965284Z",
     "start_time": "2024-09-10T11:26:59.669932Z"
    }
   },
   "cell_type": "code",
   "source": [
    "cm = CredentialManager()\n",
    "cm"
   ],
   "id": "7a4c89a0b35f47f",
   "outputs": [
    {
     "data": {
      "text/plain": [
       "{}"
      ]
     },
     "execution_count": 5,
     "metadata": {},
     "output_type": "execute_result"
    }
   ],
   "execution_count": 5
  },
  {
   "metadata": {
    "ExecuteTime": {
     "end_time": "2024-09-10T11:27:03.473877Z",
     "start_time": "2024-09-10T11:27:03.469532Z"
    }
   },
   "cell_type": "code",
   "source": "cm.get(\"api_secret\",decrypt=False)",
   "id": "12187060bc224bee",
   "outputs": [
    {
     "data": {
      "text/plain": [
       "'uU7DyqKUkvOX4OsMpeBetxy05s2ZGz6CY0DgkOHhlvrbakh/fLU7K4MXY3IHBJbqs+qlznAVCmGR1fWzprNR42A1YsUpRK8B3m3xBFPZ40g='"
      ]
     },
     "execution_count": 6,
     "metadata": {},
     "output_type": "execute_result"
    }
   ],
   "execution_count": 6
  },
  {
   "metadata": {
    "ExecuteTime": {
     "end_time": "2024-09-10T11:27:04.633898Z",
     "start_time": "2024-09-10T11:27:04.629830Z"
    }
   },
   "cell_type": "code",
   "source": "cm",
   "id": "5ccf68a3c8b628e0",
   "outputs": [
    {
     "data": {
      "text/plain": [
       "{'api_secret': 'uU7DyqKUkvOX4OsMpeBetxy05s2ZGz6CY0DgkOHhlvrbakh/fLU7K4MXY3IHBJbqs+qlznAVCmGR1fWzprNR42A1YsUpRK8B3m3xBFPZ40g='}"
      ]
     },
     "execution_count": 7,
     "metadata": {},
     "output_type": "execute_result"
    }
   ],
   "execution_count": 7
  },
  {
   "metadata": {
    "ExecuteTime": {
     "end_time": "2024-09-10T11:27:06.752834Z",
     "start_time": "2024-09-10T11:27:06.750235Z"
    }
   },
   "cell_type": "code",
   "source": "# cm.get(\"api_secret\",decrypt=True)",
   "id": "ebc1677e52e9b404",
   "outputs": [],
   "execution_count": 8
  },
  {
   "metadata": {
    "ExecuteTime": {
     "end_time": "2024-09-10T11:27:07.012958Z",
     "start_time": "2024-09-10T11:27:07.009200Z"
    }
   },
   "cell_type": "code",
   "source": "cm",
   "id": "214f4b8837cde17d",
   "outputs": [
    {
     "data": {
      "text/plain": [
       "{'api_secret': 'uU7DyqKUkvOX4OsMpeBetxy05s2ZGz6CY0DgkOHhlvrbakh/fLU7K4MXY3IHBJbqs+qlznAVCmGR1fWzprNR42A1YsUpRK8B3m3xBFPZ40g='}"
      ]
     },
     "execution_count": 9,
     "metadata": {},
     "output_type": "execute_result"
    }
   ],
   "execution_count": 9
  },
  {
   "metadata": {
    "ExecuteTime": {
     "end_time": "2024-09-10T11:27:09.476671Z",
     "start_time": "2024-09-10T11:27:09.474478Z"
    }
   },
   "cell_type": "code",
   "source": "",
   "id": "72ead27ef289ccf",
   "outputs": [],
   "execution_count": null
  },
  {
   "metadata": {
    "ExecuteTime": {
     "end_time": "2024-09-10T11:27:10.304253Z",
     "start_time": "2024-09-10T11:27:10.299405Z"
    }
   },
   "cell_type": "code",
   "source": "cm.get(\"api_key\", decrypt=False)",
   "id": "b24a8f64d0ed312e",
   "outputs": [
    {
     "data": {
      "text/plain": [
       "'O4wlK2DZxLZIPRw6H9YBWCHwX2VYJE5y/1UXRBjZ/+BnH8kqNxXa4ThePNW8ys2fODmx92GP7rG6Yy0iGVIIDV3aILjFMBLjGssm27hW2I9b0HREvrnBzpGTMo+pi0bz39J39vjKcXHL8adr/rT05g=='"
      ]
     },
     "execution_count": 10,
     "metadata": {},
     "output_type": "execute_result"
    }
   ],
   "execution_count": 10
  },
  {
   "metadata": {
    "ExecuteTime": {
     "end_time": "2024-09-10T11:27:11.475817Z",
     "start_time": "2024-09-10T11:27:11.471832Z"
    }
   },
   "cell_type": "code",
   "source": "cm",
   "id": "6a4f4757993b8ef7",
   "outputs": [
    {
     "data": {
      "text/plain": [
       "{'api_secret': 'uU7DyqKUkvOX4OsMpeBetxy05s2ZGz6CY0DgkOHhlvrbakh/fLU7K4MXY3IHBJbqs+qlznAVCmGR1fWzprNR42A1YsUpRK8B3m3xBFPZ40g=', 'api_key': 'O4wlK2DZxLZIPRw6H9YBWCHwX2VYJE5y/1UXRBjZ/+BnH8kqNxXa4ThePNW8ys2fODmx92GP7rG6Yy0iGVIIDV3aILjFMBLjGssm27hW2I9b0HREvrnBzpGTMo+pi0bz39J39vjKcXHL8adr/rT05g=='}"
      ]
     },
     "execution_count": 11,
     "metadata": {},
     "output_type": "execute_result"
    }
   ],
   "execution_count": 11
  },
  {
   "metadata": {
    "ExecuteTime": {
     "end_time": "2024-09-10T11:27:15.530397Z",
     "start_time": "2024-09-10T11:27:15.526458Z"
    }
   },
   "cell_type": "code",
   "source": "cm",
   "id": "8ef7fcad9f010acf",
   "outputs": [
    {
     "data": {
      "text/plain": [
       "{'api_secret': 'uU7DyqKUkvOX4OsMpeBetxy05s2ZGz6CY0DgkOHhlvrbakh/fLU7K4MXY3IHBJbqs+qlznAVCmGR1fWzprNR42A1YsUpRK8B3m3xBFPZ40g=', 'api_key': 'O4wlK2DZxLZIPRw6H9YBWCHwX2VYJE5y/1UXRBjZ/+BnH8kqNxXa4ThePNW8ys2fODmx92GP7rG6Yy0iGVIIDV3aILjFMBLjGssm27hW2I9b0HREvrnBzpGTMo+pi0bz39J39vjKcXHL8adr/rT05g=='}"
      ]
     },
     "execution_count": 12,
     "metadata": {},
     "output_type": "execute_result"
    }
   ],
   "execution_count": 12
  },
  {
   "metadata": {
    "ExecuteTime": {
     "end_time": "2024-09-10T11:27:16.735883Z",
     "start_time": "2024-09-10T11:27:16.731452Z"
    }
   },
   "cell_type": "code",
   "source": "cf",
   "id": "e79b910c6949ab5c",
   "outputs": [
    {
     "data": {
      "text/plain": [
       "File at C:\\Users\\hanca\\panzer.tmp:\n",
       "# Archivo de credenciales de Panzer\n",
       "api_secret = \"uU7DyqKUkvOX4OsMpeBetxy05s2ZGz6CY0DgkOHhlvrbakh/fLU7K4MXY3IHBJbqs+qlznAVCmGR1fWzprNR42A1YsUpRK8B3m3xBFPZ40g=\"\n",
       "api_key = \"O4wlK2DZxLZIPRw6H9YBWCHwX2VYJE5y/1UXRBjZ/+BnH8kqNxXa4ThePNW8ys2fODmx92GP7rG6Yy0iGVIIDV3aILjFMBLjGssm27hW2I9b0HREvrnBzpGTMo+pi0bz39J39vjKcXHL8adr/rT05g==\"\n",
       "postgresql_port = \"5432\"\n",
       "postgresql_user = \"nando\"\n",
       "postgresql_database = \"crypto\"\n",
       "private_chat_id = \"LrtmUpkUyr90wgFX2f6uQg==\"\n",
       "postgresql_password = \"XQ48RaWPccRth30uGzqa2A==\""
      ]
     },
     "execution_count": 13,
     "metadata": {},
     "output_type": "execute_result"
    }
   ],
   "execution_count": 13
  },
  {
   "metadata": {},
   "cell_type": "code",
   "source": "",
   "id": "66be4f3568b54fa4",
   "outputs": [],
   "execution_count": null
  }
 ],
 "metadata": {
  "kernelspec": {
   "display_name": "Python 3",
   "language": "python",
   "name": "python3"
  },
  "language_info": {
   "codemirror_mode": {
    "name": "ipython",
    "version": 2
   },
   "file_extension": ".py",
   "mimetype": "text/x-python",
   "name": "python",
   "nbconvert_exporter": "python",
   "pygments_lexer": "ipython2",
   "version": "2.7.6"
  }
 },
 "nbformat": 4,
 "nbformat_minor": 5
}
