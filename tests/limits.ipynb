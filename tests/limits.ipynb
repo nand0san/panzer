{
 "cells": [
  {
   "cell_type": "code",
   "id": "initial_id",
   "metadata": {
    "collapsed": true
   },
   "source": [
    "from panzer.request import get, post\n",
    "from panzer.limits import BinanceRateLimiter"
   ],
   "outputs": [],
   "execution_count": null
  },
  {
   "metadata": {},
   "cell_type": "code",
   "source": [
    "def test_rate_limiter(rate_limiter):\n",
    "\n",
    "    BASE_URL = 'https://api.binance.com'\n",
    "\n",
    "    for endpoint, weight, params, signed, method in CALLS:\n",
    "        url = BASE_URL + endpoint\n",
    "        is_order = url.endswith(\"/api/v3/order\")\n",
    "        can = rate_limiter.can_make_request(weight=weight, is_order=is_order)\n",
    "        print(f\"\\n----------------\\n\"\n",
    "              f\"Can make request to {endpoint} w={weight} is_order={is_order} can_make={can}\\n{rate_limiter.get()}\\n\")\n",
    "\n",
    "        # Make the API call\n",
    "        if can:\n",
    "            if method == \"GET\":\n",
    "                response, headers = get(url, params=params, full_sign=signed)\n",
    "            elif method == \"POST\":\n",
    "                response, headers = post(url, params=params, full_sign=signed)\n",
    "            else:\n",
    "                raise ValueError(f\"Unsupported method: {method}\")\n",
    "            x_headers = {h: v for h, v in headers.items() if h.startswith('x-mbx-')}\n",
    "            print(f\"Response Headers for {endpoint}: {x_headers}\")\n",
    "            rate_limiter.update_from_headers(headers)\n",
    "        else:\n",
    "            raise Exception(f\"Cannot make request to {endpoint}. Rate limit exceeded.\")\n",
    "    # loop for overcharging\n",
    "    test_rate_limiter(rate_limiter)"
   ],
   "id": "aaa7623fe2d76754",
   "outputs": [],
   "execution_count": null
  },
  {
   "metadata": {},
   "cell_type": "code",
   "source": [
    "# Define base URL for Binance API\n",
    "\n",
    "# Define public endpoints for testing\n",
    "CALLS = [\n",
    "    ('/api/v3/time', 1, [], False, \"GET\"),\n",
    "    ('/api/v3/exchangeInfo', 20, [], False, \"GET\"),\n",
    "    ('/api/v3/ticker/price', 4, [], False, \"GET\"),\n",
    "    # ('/api/v3/order/test', 1, {'symbol': \"BTCUSDT\",\n",
    "    #                            'side': \"SELL\",\n",
    "    #                            'type': \"LIMIT\",\n",
    "    #                            'timeInForce': 'GTC',  # Good 'Til Canceled\n",
    "    #                            'quantity': 0.001,\n",
    "    #                            'price': 80000,\n",
    "    #                            'recvWindow': 10000,\n",
    "    #                            'timestamp': int(time() * 1000)},\n",
    "    #  True, \"POST\"),\n",
    "    # ('/api/v3/order', 1, {'symbol': \"BTCUSDT\",\n",
    "    #                       'side': \"SELL\",\n",
    "    #                       'type': \"LIMIT\",\n",
    "    #                       'timeInForce': 'GTC',  # Good 'Til Canceled\n",
    "    #                       'quantity': 0.001,\n",
    "    #                       'price': 80000,\n",
    "    #                       'recvWindow': 5000,\n",
    "    #                       'timestamp': int(time() * 1000)},\n",
    "    #  True, \"POST\"),\n",
    "    # ('/api/v3/order', 1, {'symbol': \"BTCUSDT\",\n",
    "    #                       'side': \"SELL\",\n",
    "    #                       'type': \"LIMIT\",\n",
    "    #                       'timeInForce': 'GTC',  # Good 'Til Canceled\n",
    "    #                       'quantity': 0.001,\n",
    "    #                       'price': 80000,\n",
    "    #                       'recvWindow': 5000,\n",
    "    #                       'timestamp': int(time() * 1000)},\n",
    "    #  True, \"POST\"),\n",
    "    # ('/api/v3/order', 1, {'symbol': \"BTCUSDT\",\n",
    "    #                       'side': \"SELL\",\n",
    "    #                       'type': \"LIMIT\",\n",
    "    #                       'timeInForce': 'GTC',  # Good 'Til Canceled\n",
    "    #                       'quantity': 0.001,\n",
    "    #                       'price': 80000,\n",
    "    #                       'recvWindow': 5000,\n",
    "    #                       'timestamp': int(time() * 1000)},\n",
    "    #  True, \"POST\"),\n",
    "]"
   ],
   "id": "11a9ff2261fc31f1",
   "outputs": [],
   "execution_count": null
  },
  {
   "metadata": {},
   "cell_type": "code",
   "source": "rate_limiter = BinanceRateLimiter(info_level=\"DEBUG\")",
   "id": "ee301a4fc9a84c9c",
   "outputs": [],
   "execution_count": null
  },
  {
   "metadata": {},
   "cell_type": "code",
   "source": "rate_limiter",
   "id": "babe0f168f0b3412",
   "outputs": [],
   "execution_count": null
  },
  {
   "metadata": {},
   "cell_type": "code",
   "source": "test_rate_limiter(rate_limiter)",
   "id": "7d75517cdce4cfc",
   "outputs": [],
   "execution_count": null
  },
  {
   "metadata": {},
   "cell_type": "code",
   "source": "",
   "id": "f54173d5e950b361",
   "outputs": [],
   "execution_count": null
  }
 ],
 "metadata": {
  "kernelspec": {
   "display_name": "Python 3",
   "language": "python",
   "name": "python3"
  },
  "language_info": {
   "codemirror_mode": {
    "name": "ipython",
    "version": 2
   },
   "file_extension": ".py",
   "mimetype": "text/x-python",
   "name": "python",
   "nbconvert_exporter": "python",
   "pygments_lexer": "ipython2",
   "version": "2.7.6"
  }
 },
 "nbformat": 4,
 "nbformat_minor": 5
}
